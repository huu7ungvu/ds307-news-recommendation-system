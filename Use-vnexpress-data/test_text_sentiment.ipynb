{
 "cells": [
  {
   "cell_type": "code",
   "execution_count": 8,
   "metadata": {},
   "outputs": [],
   "source": [
    "import pandas as pd "
   ]
  },
  {
   "cell_type": "code",
   "execution_count": 9,
   "metadata": {},
   "outputs": [],
   "source": [
    "test_data = pd.read_csv('1061945344.csv')"
   ]
  },
  {
   "cell_type": "code",
   "execution_count": 10,
   "metadata": {},
   "outputs": [],
   "source": [
    "test_data=test_data[['comment_id','article_id','content','full_name','userid','title','url']]"
   ]
  },
  {
   "cell_type": "code",
   "execution_count": 11,
   "metadata": {},
   "outputs": [
    {
     "data": {
      "text/html": [
       "<div>\n",
       "<style scoped>\n",
       "    .dataframe tbody tr th:only-of-type {\n",
       "        vertical-align: middle;\n",
       "    }\n",
       "\n",
       "    .dataframe tbody tr th {\n",
       "        vertical-align: top;\n",
       "    }\n",
       "\n",
       "    .dataframe thead th {\n",
       "        text-align: right;\n",
       "    }\n",
       "</style>\n",
       "<table border=\"1\" class=\"dataframe\">\n",
       "  <thead>\n",
       "    <tr style=\"text-align: right;\">\n",
       "      <th></th>\n",
       "      <th>comment_id</th>\n",
       "      <th>article_id</th>\n",
       "      <th>content</th>\n",
       "      <th>full_name</th>\n",
       "      <th>userid</th>\n",
       "      <th>title</th>\n",
       "      <th>url</th>\n",
       "    </tr>\n",
       "  </thead>\n",
       "  <tbody>\n",
       "    <tr>\n",
       "      <th>0</th>\n",
       "      <td>48076303</td>\n",
       "      <td>4535124</td>\n",
       "      <td>Thức thời - lo cho mình trước đã xã hội nhà nư...</td>\n",
       "      <td>Thái Phạm</td>\n",
       "      <td>1061945344</td>\n",
       "      <td>'Nghĩ cách kiếm tiền thay vì ngồi chờ giá nhà ...</td>\n",
       "      <td>https://vnexpress.net/bai-viet-4535124.html</td>\n",
       "    </tr>\n",
       "    <tr>\n",
       "      <th>1</th>\n",
       "      <td>48053674</td>\n",
       "      <td>4534597</td>\n",
       "      <td>Ronaldo - CR7 là một cầu thủ tuyệt vời hoàn hả...</td>\n",
       "      <td>Thái Phạm</td>\n",
       "      <td>1061945344</td>\n",
       "      <td>HLV Bồ Đào Nha bênh vực Ronaldo - VnExpress Th...</td>\n",
       "      <td>https://vnexpress.net/hlv-bo-dao-nha-benh-vuc-...</td>\n",
       "    </tr>\n",
       "    <tr>\n",
       "      <th>2</th>\n",
       "      <td>48053599</td>\n",
       "      <td>4534597</td>\n",
       "      <td>Khổ quá đợi bóng lăn đã</td>\n",
       "      <td>Thái Phạm</td>\n",
       "      <td>1061945344</td>\n",
       "      <td>HLV Bồ Đào Nha bênh vực Ronaldo - VnExpress Th...</td>\n",
       "      <td>https://vnexpress.net/hlv-bo-dao-nha-benh-vuc-...</td>\n",
       "    </tr>\n",
       "    <tr>\n",
       "      <th>3</th>\n",
       "      <td>48033268</td>\n",
       "      <td>4534147</td>\n",
       "      <td>Camavinga và tchoymendy mà yếu à, chỉ là thiếu...</td>\n",
       "      <td>Thái Phạm</td>\n",
       "      <td>1061945344</td>\n",
       "      <td>Pháp mang 25 cầu thủ đi dự World Cup 2022 - Vn...</td>\n",
       "      <td>https://vnexpress.net/phap-mang-25-cau-thu-di-...</td>\n",
       "    </tr>\n",
       "    <tr>\n",
       "      <th>4</th>\n",
       "      <td>47756969</td>\n",
       "      <td>4496272</td>\n",
       "      <td>Có khí phách, khi xưa mình bé cha mẹ nuôi mình...</td>\n",
       "      <td>Thái Phạm</td>\n",
       "      <td>1061945344</td>\n",
       "      <td>Viễn cảnh 'bốn thanh niên chăm bốn người già' ...</td>\n",
       "      <td>https://vnexpress.net/vien-canh-bon-thanh-nien...</td>\n",
       "    </tr>\n",
       "    <tr>\n",
       "      <th>5</th>\n",
       "      <td>47700442</td>\n",
       "      <td>4523815</td>\n",
       "      <td>Bạn chỉ được cái nói đúng</td>\n",
       "      <td>Thái Phạm</td>\n",
       "      <td>1061945344</td>\n",
       "      <td>Có nhẫn tâm khi tôi dứt khoát chia tay bạn gái</td>\n",
       "      <td>https://vnexpress.net/bai-viet-4523815.html</td>\n",
       "    </tr>\n",
       "    <tr>\n",
       "      <th>6</th>\n",
       "      <td>47699274</td>\n",
       "      <td>4520285</td>\n",
       "      <td>Sướng quá nha chú</td>\n",
       "      <td>Thái Phạm</td>\n",
       "      <td>1061945344</td>\n",
       "      <td>Vợ và con trai phủ nhận mọi đóng góp của tôi c...</td>\n",
       "      <td>https://vnexpress.net/bai-viet-4520285.html</td>\n",
       "    </tr>\n",
       "    <tr>\n",
       "      <th>7</th>\n",
       "      <td>47692487</td>\n",
       "      <td>4524180</td>\n",
       "      <td>Chúng ta cùng chung chí hướng</td>\n",
       "      <td>Thái Phạm</td>\n",
       "      <td>1061945344</td>\n",
       "      <td>Người Việt chi nghìn tỷ đồng mua iPhone 14 ngà...</td>\n",
       "      <td>https://vnexpress.net/nguoi-viet-chi-nghin-ty-...</td>\n",
       "    </tr>\n",
       "    <tr>\n",
       "      <th>8</th>\n",
       "      <td>47692317</td>\n",
       "      <td>4524180</td>\n",
       "      <td>Bạn nói kiểu gì chứ tôi xài Iphone6 vẫn chạy ầ...</td>\n",
       "      <td>Thái Phạm</td>\n",
       "      <td>1061945344</td>\n",
       "      <td>Người Việt chi nghìn tỷ đồng mua iPhone 14 ngà...</td>\n",
       "      <td>https://vnexpress.net/nguoi-viet-chi-nghin-ty-...</td>\n",
       "    </tr>\n",
       "    <tr>\n",
       "      <th>9</th>\n",
       "      <td>47692655</td>\n",
       "      <td>4524180</td>\n",
       "      <td>Công nhân với dân văn phòng cũng cùng là làm t...</td>\n",
       "      <td>Thái Phạm</td>\n",
       "      <td>1061945344</td>\n",
       "      <td>Người Việt chi nghìn tỷ đồng mua iPhone 14 ngà...</td>\n",
       "      <td>https://vnexpress.net/nguoi-viet-chi-nghin-ty-...</td>\n",
       "    </tr>\n",
       "  </tbody>\n",
       "</table>\n",
       "</div>"
      ],
      "text/plain": [
       "   comment_id  article_id                                            content  \\\n",
       "0    48076303     4535124  Thức thời - lo cho mình trước đã xã hội nhà nư...   \n",
       "1    48053674     4534597  Ronaldo - CR7 là một cầu thủ tuyệt vời hoàn hả...   \n",
       "2    48053599     4534597                            Khổ quá đợi bóng lăn đã   \n",
       "3    48033268     4534147  Camavinga và tchoymendy mà yếu à, chỉ là thiếu...   \n",
       "4    47756969     4496272  Có khí phách, khi xưa mình bé cha mẹ nuôi mình...   \n",
       "5    47700442     4523815                          Bạn chỉ được cái nói đúng   \n",
       "6    47699274     4520285                                  Sướng quá nha chú   \n",
       "7    47692487     4524180                      Chúng ta cùng chung chí hướng   \n",
       "8    47692317     4524180  Bạn nói kiểu gì chứ tôi xài Iphone6 vẫn chạy ầ...   \n",
       "9    47692655     4524180  Công nhân với dân văn phòng cũng cùng là làm t...   \n",
       "\n",
       "   full_name      userid                                              title  \\\n",
       "0  Thái Phạm  1061945344  'Nghĩ cách kiếm tiền thay vì ngồi chờ giá nhà ...   \n",
       "1  Thái Phạm  1061945344  HLV Bồ Đào Nha bênh vực Ronaldo - VnExpress Th...   \n",
       "2  Thái Phạm  1061945344  HLV Bồ Đào Nha bênh vực Ronaldo - VnExpress Th...   \n",
       "3  Thái Phạm  1061945344  Pháp mang 25 cầu thủ đi dự World Cup 2022 - Vn...   \n",
       "4  Thái Phạm  1061945344  Viễn cảnh 'bốn thanh niên chăm bốn người già' ...   \n",
       "5  Thái Phạm  1061945344     Có nhẫn tâm khi tôi dứt khoát chia tay bạn gái   \n",
       "6  Thái Phạm  1061945344  Vợ và con trai phủ nhận mọi đóng góp của tôi c...   \n",
       "7  Thái Phạm  1061945344  Người Việt chi nghìn tỷ đồng mua iPhone 14 ngà...   \n",
       "8  Thái Phạm  1061945344  Người Việt chi nghìn tỷ đồng mua iPhone 14 ngà...   \n",
       "9  Thái Phạm  1061945344  Người Việt chi nghìn tỷ đồng mua iPhone 14 ngà...   \n",
       "\n",
       "                                                 url  \n",
       "0        https://vnexpress.net/bai-viet-4535124.html  \n",
       "1  https://vnexpress.net/hlv-bo-dao-nha-benh-vuc-...  \n",
       "2  https://vnexpress.net/hlv-bo-dao-nha-benh-vuc-...  \n",
       "3  https://vnexpress.net/phap-mang-25-cau-thu-di-...  \n",
       "4  https://vnexpress.net/vien-canh-bon-thanh-nien...  \n",
       "5        https://vnexpress.net/bai-viet-4523815.html  \n",
       "6        https://vnexpress.net/bai-viet-4520285.html  \n",
       "7  https://vnexpress.net/nguoi-viet-chi-nghin-ty-...  \n",
       "8  https://vnexpress.net/nguoi-viet-chi-nghin-ty-...  \n",
       "9  https://vnexpress.net/nguoi-viet-chi-nghin-ty-...  "
      ]
     },
     "execution_count": 11,
     "metadata": {},
     "output_type": "execute_result"
    }
   ],
   "source": [
    "test_data"
   ]
  },
  {
   "cell_type": "code",
   "execution_count": 33,
   "metadata": {},
   "outputs": [],
   "source": [
    "# Combine comments with one user\n",
    "def combineComments(userid,data):\n",
    "    comments = test_data.loc[test_data['userid']==userid,'content'].to_list()\n",
    "    comment_id\t= test_data.loc[test_data['userid']==userid,'comment_id'].to_list()\n",
    "    article_id\t= test_data.loc[test_data['userid']==userid,'article_id'].to_list()\n",
    "    title\t= test_data.loc[test_data['userid']==userid,'title'].to_list()\n",
    "    url = test_data.loc[test_data['userid']==userid,'url'].to_list()\n",
    "    append\t= [userid,comments,comment_id,article_id,title,url]\n",
    "    data = data.append(pd.Series(append, index = [\"userid\",\"comments\",\"comments_id\",\"article_id\",\"title\",'url']), \n",
    "           ignore_index=True)\n",
    "    return(data)"
   ]
  },
  {
   "cell_type": "code",
   "execution_count": 38,
   "metadata": {},
   "outputs": [
    {
     "data": {
      "text/plain": [
       "[1061945344]"
      ]
     },
     "execution_count": 38,
     "metadata": {},
     "output_type": "execute_result"
    }
   ],
   "source": [
    "list(test_data['userid'].unique())"
   ]
  },
  {
   "cell_type": "code",
   "execution_count": 39,
   "metadata": {},
   "outputs": [
    {
     "name": "stderr",
     "output_type": "stream",
     "text": [
      "C:\\Users\\marti\\AppData\\Local\\Temp\\ipykernel_16204\\218728412.py:9: FutureWarning: The frame.append method is deprecated and will be removed from pandas in a future version. Use pandas.concat instead.\n",
      "  data = data.append(pd.Series(append, index = [\"userid\",\"comments\",\"comments_id\",\"article_id\",\"title\",'url']),\n"
     ]
    }
   ],
   "source": [
    "userid_list = list(test_data['userid'].unique())\n",
    "data = pd.DataFrame(columns = [\"userid\",\"comments\",\"comments_id\",\"article_id\",\"title\",'url'])\n",
    "\n",
    "for i in userid_list:\n",
    "    data=combineComments(i,data)"
   ]
  },
  {
   "cell_type": "code",
   "execution_count": 54,
   "metadata": {},
   "outputs": [
    {
     "data": {
      "text/plain": [
       "'Ronaldo - CR7 là một cầu thủ tuyệt vời hoàn hảo, tôi công nhận điều đó nhưng với phong độ + thái độ + trình độ của anh ở thời điểm này thì anh không xứng đáng có mặt tại WC năm nay - ý kiến riêng của tôi'"
      ]
     },
     "execution_count": 54,
     "metadata": {},
     "output_type": "execute_result"
    }
   ],
   "source": [
    "data['comments'].to_list()[0][1]"
   ]
  },
  {
   "cell_type": "markdown",
   "metadata": {},
   "source": [
    "# Analyze Users' Comments"
   ]
  },
  {
   "cell_type": "code",
   "execution_count": 6,
   "metadata": {},
   "outputs": [],
   "source": [
    "#call library to preprocess tweets\n",
    "import nltk\n",
    "import string\n",
    "import re\n",
    "#nltk.download()\n",
    "#nltk.download('stopwords')\n",
    "#nltk.download('punkt')\n",
    "#nltk.download('wordnet')\n",
    "from nltk.corpus import stopwords\n",
    "from nltk.tokenize import RegexpTokenizer\n",
    "#ps = nltk.PorterStemmer()\n",
    "#wn = nltk.WordNetLemmatizer()\n",
    "stop = set(line.strip() for line in open('stop_words.txt', encoding='utf-8'))\n",
    "exclude = set(string.punctuation) \n",
    "\n",
    "words = set(nltk.corpus.words.words())"
   ]
  },
  {
   "cell_type": "markdown",
   "metadata": {},
   "source": [
    "Tiền xử lý:\n",
    "  - Làm sạch loại bỏ ký tự đặc biệt và dấu câu\n",
    "  - chuẩn hóa về chữ thường\n",
    "  - Loại bỏ stop words\n",
    "  - Thay thế các url trong dữ liệu bởi nhãn link_spam\n",
    "  - Xử lý các trường hợp người dùng láy láy âm tiết(Ví dụ: Ngooon quááááá điiiiiiii !!!!!)\n",
    "  - Chuẩn hóa các từ viết tắt cơ bản(Ví dụ: k, ko, k0 --> không, bt --> bình thường,...) (teencode)\n",
    "  - Loại bỏ số và các từ chỉ có 1 ký tự"
   ]
  },
  {
   "cell_type": "code",
   "execution_count": 83,
   "metadata": {},
   "outputs": [
    {
     "name": "stdout",
     "output_type": "stream",
     "text": [
      "thức thời hội ronaldo cr7 cầu thủ tuyệt vời hoàn hảo công phong thái trình thời xứng mặt kiến khổ đợi bóng lăn camavinga tchoymendy yếu kinh nghiệm thi đấu quốc khí phách xưa nuôi comment sướng nha chí hướng kiểu xài iphone6 chạy grab bao giao công nhân dân văn phòng thuê\n"
     ]
    }
   ],
   "source": [
    "# hàm này đúng code nhưng sai logic tiền xử lý\n",
    "def processComments(comments):\n",
    "    \n",
    "    #cleaning of comments\n",
    "    cleanedcomments = []\n",
    "    for comment in comments:\n",
    "        cm = re.sub('http\\S+', '', comment) #remove links\n",
    "        \n",
    "        cm = \"\".join([char for char in cm if char not in string.punctuation]) #remove punctuations\n",
    "        \n",
    "        cm = cm.lower() #converting to lowercase letters\n",
    "        \n",
    "        cm = ' '.join([word for word in cm.split() if word not in (stop)]) #removing stop words (có vấn đề)\n",
    "        \n",
    "        cm = ' '.join([word for word in cm.split() if len(word)>2])\n",
    "        \n",
    "        cleanedcomments.append(cm)\n",
    "\n",
    "        \n",
    "\n",
    "    cleanedcomments = ' '.join(cleanedcomments) #joining all comments\n",
    "    \n",
    "\n",
    "    #tokenization\n",
    "    Processedcomments = nltk.word_tokenize(cleanedcomments) ####################################################\n",
    "\n",
    "    #Processedcomments = [word for word in Processedcomments if len(word)>2]\n",
    "    \n",
    "\n",
    "    Processedcomments = ' '.join(w for w in Processedcomments)\n",
    "\n",
    "    return Processedcomments\n",
    "    \n",
    "# process all tweet from all user (ptweets). then, appending into dataframe (only one dataframe)\n",
    "data[\"pcomment\"] = data['comments'].apply(lambda x : processComments(x))"
   ]
  }
 ],
 "metadata": {
  "kernelspec": {
   "display_name": "Python 3.9.4 64-bit",
   "language": "python",
   "name": "python3"
  },
  "language_info": {
   "codemirror_mode": {
    "name": "ipython",
    "version": 3
   },
   "file_extension": ".py",
   "mimetype": "text/x-python",
   "name": "python",
   "nbconvert_exporter": "python",
   "pygments_lexer": "ipython3",
   "version": "3.9.4"
  },
  "orig_nbformat": 4,
  "vscode": {
   "interpreter": {
    "hash": "11938c6bc6919ae2720b4d5011047913343b08a43b18698fd82dedb0d4417594"
   }
  }
 },
 "nbformat": 4,
 "nbformat_minor": 2
}
